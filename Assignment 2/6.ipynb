{
 "cells": [
  {
   "cell_type": "markdown",
   "metadata": {},
   "source": [
    "# Consider the 128- dimensional feature vectors given in the “face feature vectors.csv” file. Use this information to design and implement a Bayes Classifier.\n",
    "\n",
    "Dataset Specifications:\n",
    "Total number of samples = 800\n",
    "Number of classes = 2 ( labelled as “male” and “female”)\n",
    "Samples from “1 to 400” belongs to class “male”\n",
    "Samples from “401 to 800” belongs to class “female”\n",
    "Number of samples per class = 400\n",
    "Use the following information to design classifier:\n",
    "Number of test feature vectors ( first 5 in each class) = 5\n",
    "Number of training feature vectors ( remaining 395 in each class) = 395\n",
    "Number of dimensions = 128"
   ]
  },
  {
   "cell_type": "code",
   "execution_count": 3,
   "metadata": {},
   "outputs": [],
   "source": [
    "import pandas as pd\n",
    "import matplotlib.pyplot as plt\n",
    "import numpy as np\n",
    "import math"
   ]
  },
  {
   "cell_type": "code",
   "execution_count": 4,
   "metadata": {},
   "outputs": [],
   "source": [
    "df=pd.read_csv(\"./face feature vectors.csv\")"
   ]
  },
  {
   "cell_type": "code",
   "execution_count": 5,
   "metadata": {
    "scrolled": false
   },
   "outputs": [
    {
     "output_type": "execute_result",
     "data": {
      "text/plain": [
       "     Unnamed: 0 Unnamed: 1         0         1         2         3         4  \\\n",
       "0             1       male -0.066420  0.151611  0.027740  0.052771 -0.066105   \n",
       "1             2       male -0.030614  0.049667  0.008084 -0.050324  0.007649   \n",
       "2             3       male -0.096178  0.061127  0.035326 -0.035388 -0.090728   \n",
       "3             4       male -0.103057  0.085044  0.078333 -0.035873 -0.028163   \n",
       "4             5       male -0.125815  0.120046  0.023131 -0.042901  0.038215   \n",
       "..          ...        ...       ...       ...       ...       ...       ...   \n",
       "396         397       male -0.158460  0.109948  0.019088  0.015506 -0.069668   \n",
       "397         398       male -0.101499  0.119739  0.016951 -0.013677 -0.055524   \n",
       "398         399       male -0.149516  0.081588  0.090796 -0.053116 -0.133314   \n",
       "399         400     female  0.039844  0.070357  0.130196 -0.007683 -0.077825   \n",
       "400         401     female  0.001747  0.185678  0.073260  0.042142 -0.088674   \n",
       "\n",
       "            5         6         7  ...       118       119       120  \\\n",
       "0   -0.041232 -0.002637 -0.158467  ...  0.025989 -0.001087  0.027260   \n",
       "1   -0.063818 -0.019530 -0.119905  ...  0.044229 -0.023900 -0.028108   \n",
       "2   -0.018634 -0.024315 -0.139786  ...  0.111141  0.059436 -0.029222   \n",
       "3    0.004924  0.007829 -0.017016  ...  0.100793 -0.002644 -0.023388   \n",
       "4   -0.049677 -0.054258 -0.130758  ...  0.090197  0.067527  0.039926   \n",
       "..        ...       ...       ...  ...       ...       ...       ...   \n",
       "396  0.032311  0.015062 -0.140817  ...  0.143453  0.059608 -0.006824   \n",
       "397  0.028399  0.028164 -0.152100  ...  0.046488  0.051044 -0.008298   \n",
       "398  0.001096  0.019941 -0.117803  ...  0.111678 -0.016921  0.059115   \n",
       "399 -0.021298 -0.024133 -0.085105  ...  0.105510  0.081928 -0.033337   \n",
       "400  0.028186 -0.027830 -0.064211  ...  0.123615  0.030036  0.041442   \n",
       "\n",
       "          121       122       123       124       125       126       127  \n",
       "0   -0.046754 -0.118619 -0.163774 -0.000590 -0.076400  0.107497  0.001567  \n",
       "1    0.040618 -0.146579 -0.141244  0.016162  0.017638  0.080610 -0.015930  \n",
       "2    0.042115 -0.222173 -0.116908  0.093428  0.017391  0.057652  0.086116  \n",
       "3    0.029497 -0.139830 -0.119243  0.005306 -0.015100  0.161575  0.062462  \n",
       "4    0.047469 -0.056852 -0.076700  0.004966  0.028171  0.026041  0.084135  \n",
       "..        ...       ...       ...       ...       ...       ...       ...  \n",
       "396  0.056758 -0.064352 -0.108518  0.132037  0.050347  0.071465 -0.022954  \n",
       "397  0.018010 -0.164197 -0.122292  0.032616 -0.030194 -0.018642  0.032821  \n",
       "398 -0.007810 -0.096824 -0.079415 -0.015487 -0.075470  0.062481  0.052727  \n",
       "399 -0.023604 -0.167003 -0.059075  0.053074  0.080940  0.011467 -0.021999  \n",
       "400 -0.012818 -0.119177 -0.165786 -0.075368 -0.017690  0.067028  0.036452  \n",
       "\n",
       "[401 rows x 130 columns]"
      ],
      "text/html": "<div>\n<style scoped>\n    .dataframe tbody tr th:only-of-type {\n        vertical-align: middle;\n    }\n\n    .dataframe tbody tr th {\n        vertical-align: top;\n    }\n\n    .dataframe thead th {\n        text-align: right;\n    }\n</style>\n<table border=\"1\" class=\"dataframe\">\n  <thead>\n    <tr style=\"text-align: right;\">\n      <th></th>\n      <th>Unnamed: 0</th>\n      <th>Unnamed: 1</th>\n      <th>0</th>\n      <th>1</th>\n      <th>2</th>\n      <th>3</th>\n      <th>4</th>\n      <th>5</th>\n      <th>6</th>\n      <th>7</th>\n      <th>...</th>\n      <th>118</th>\n      <th>119</th>\n      <th>120</th>\n      <th>121</th>\n      <th>122</th>\n      <th>123</th>\n      <th>124</th>\n      <th>125</th>\n      <th>126</th>\n      <th>127</th>\n    </tr>\n  </thead>\n  <tbody>\n    <tr>\n      <th>0</th>\n      <td>1</td>\n      <td>male</td>\n      <td>-0.066420</td>\n      <td>0.151611</td>\n      <td>0.027740</td>\n      <td>0.052771</td>\n      <td>-0.066105</td>\n      <td>-0.041232</td>\n      <td>-0.002637</td>\n      <td>-0.158467</td>\n      <td>...</td>\n      <td>0.025989</td>\n      <td>-0.001087</td>\n      <td>0.027260</td>\n      <td>-0.046754</td>\n      <td>-0.118619</td>\n      <td>-0.163774</td>\n      <td>-0.000590</td>\n      <td>-0.076400</td>\n      <td>0.107497</td>\n      <td>0.001567</td>\n    </tr>\n    <tr>\n      <th>1</th>\n      <td>2</td>\n      <td>male</td>\n      <td>-0.030614</td>\n      <td>0.049667</td>\n      <td>0.008084</td>\n      <td>-0.050324</td>\n      <td>0.007649</td>\n      <td>-0.063818</td>\n      <td>-0.019530</td>\n      <td>-0.119905</td>\n      <td>...</td>\n      <td>0.044229</td>\n      <td>-0.023900</td>\n      <td>-0.028108</td>\n      <td>0.040618</td>\n      <td>-0.146579</td>\n      <td>-0.141244</td>\n      <td>0.016162</td>\n      <td>0.017638</td>\n      <td>0.080610</td>\n      <td>-0.015930</td>\n    </tr>\n    <tr>\n      <th>2</th>\n      <td>3</td>\n      <td>male</td>\n      <td>-0.096178</td>\n      <td>0.061127</td>\n      <td>0.035326</td>\n      <td>-0.035388</td>\n      <td>-0.090728</td>\n      <td>-0.018634</td>\n      <td>-0.024315</td>\n      <td>-0.139786</td>\n      <td>...</td>\n      <td>0.111141</td>\n      <td>0.059436</td>\n      <td>-0.029222</td>\n      <td>0.042115</td>\n      <td>-0.222173</td>\n      <td>-0.116908</td>\n      <td>0.093428</td>\n      <td>0.017391</td>\n      <td>0.057652</td>\n      <td>0.086116</td>\n    </tr>\n    <tr>\n      <th>3</th>\n      <td>4</td>\n      <td>male</td>\n      <td>-0.103057</td>\n      <td>0.085044</td>\n      <td>0.078333</td>\n      <td>-0.035873</td>\n      <td>-0.028163</td>\n      <td>0.004924</td>\n      <td>0.007829</td>\n      <td>-0.017016</td>\n      <td>...</td>\n      <td>0.100793</td>\n      <td>-0.002644</td>\n      <td>-0.023388</td>\n      <td>0.029497</td>\n      <td>-0.139830</td>\n      <td>-0.119243</td>\n      <td>0.005306</td>\n      <td>-0.015100</td>\n      <td>0.161575</td>\n      <td>0.062462</td>\n    </tr>\n    <tr>\n      <th>4</th>\n      <td>5</td>\n      <td>male</td>\n      <td>-0.125815</td>\n      <td>0.120046</td>\n      <td>0.023131</td>\n      <td>-0.042901</td>\n      <td>0.038215</td>\n      <td>-0.049677</td>\n      <td>-0.054258</td>\n      <td>-0.130758</td>\n      <td>...</td>\n      <td>0.090197</td>\n      <td>0.067527</td>\n      <td>0.039926</td>\n      <td>0.047469</td>\n      <td>-0.056852</td>\n      <td>-0.076700</td>\n      <td>0.004966</td>\n      <td>0.028171</td>\n      <td>0.026041</td>\n      <td>0.084135</td>\n    </tr>\n    <tr>\n      <th>...</th>\n      <td>...</td>\n      <td>...</td>\n      <td>...</td>\n      <td>...</td>\n      <td>...</td>\n      <td>...</td>\n      <td>...</td>\n      <td>...</td>\n      <td>...</td>\n      <td>...</td>\n      <td>...</td>\n      <td>...</td>\n      <td>...</td>\n      <td>...</td>\n      <td>...</td>\n      <td>...</td>\n      <td>...</td>\n      <td>...</td>\n      <td>...</td>\n      <td>...</td>\n      <td>...</td>\n    </tr>\n    <tr>\n      <th>396</th>\n      <td>397</td>\n      <td>male</td>\n      <td>-0.158460</td>\n      <td>0.109948</td>\n      <td>0.019088</td>\n      <td>0.015506</td>\n      <td>-0.069668</td>\n      <td>0.032311</td>\n      <td>0.015062</td>\n      <td>-0.140817</td>\n      <td>...</td>\n      <td>0.143453</td>\n      <td>0.059608</td>\n      <td>-0.006824</td>\n      <td>0.056758</td>\n      <td>-0.064352</td>\n      <td>-0.108518</td>\n      <td>0.132037</td>\n      <td>0.050347</td>\n      <td>0.071465</td>\n      <td>-0.022954</td>\n    </tr>\n    <tr>\n      <th>397</th>\n      <td>398</td>\n      <td>male</td>\n      <td>-0.101499</td>\n      <td>0.119739</td>\n      <td>0.016951</td>\n      <td>-0.013677</td>\n      <td>-0.055524</td>\n      <td>0.028399</td>\n      <td>0.028164</td>\n      <td>-0.152100</td>\n      <td>...</td>\n      <td>0.046488</td>\n      <td>0.051044</td>\n      <td>-0.008298</td>\n      <td>0.018010</td>\n      <td>-0.164197</td>\n      <td>-0.122292</td>\n      <td>0.032616</td>\n      <td>-0.030194</td>\n      <td>-0.018642</td>\n      <td>0.032821</td>\n    </tr>\n    <tr>\n      <th>398</th>\n      <td>399</td>\n      <td>male</td>\n      <td>-0.149516</td>\n      <td>0.081588</td>\n      <td>0.090796</td>\n      <td>-0.053116</td>\n      <td>-0.133314</td>\n      <td>0.001096</td>\n      <td>0.019941</td>\n      <td>-0.117803</td>\n      <td>...</td>\n      <td>0.111678</td>\n      <td>-0.016921</td>\n      <td>0.059115</td>\n      <td>-0.007810</td>\n      <td>-0.096824</td>\n      <td>-0.079415</td>\n      <td>-0.015487</td>\n      <td>-0.075470</td>\n      <td>0.062481</td>\n      <td>0.052727</td>\n    </tr>\n    <tr>\n      <th>399</th>\n      <td>400</td>\n      <td>female</td>\n      <td>0.039844</td>\n      <td>0.070357</td>\n      <td>0.130196</td>\n      <td>-0.007683</td>\n      <td>-0.077825</td>\n      <td>-0.021298</td>\n      <td>-0.024133</td>\n      <td>-0.085105</td>\n      <td>...</td>\n      <td>0.105510</td>\n      <td>0.081928</td>\n      <td>-0.033337</td>\n      <td>-0.023604</td>\n      <td>-0.167003</td>\n      <td>-0.059075</td>\n      <td>0.053074</td>\n      <td>0.080940</td>\n      <td>0.011467</td>\n      <td>-0.021999</td>\n    </tr>\n    <tr>\n      <th>400</th>\n      <td>401</td>\n      <td>female</td>\n      <td>0.001747</td>\n      <td>0.185678</td>\n      <td>0.073260</td>\n      <td>0.042142</td>\n      <td>-0.088674</td>\n      <td>0.028186</td>\n      <td>-0.027830</td>\n      <td>-0.064211</td>\n      <td>...</td>\n      <td>0.123615</td>\n      <td>0.030036</td>\n      <td>0.041442</td>\n      <td>-0.012818</td>\n      <td>-0.119177</td>\n      <td>-0.165786</td>\n      <td>-0.075368</td>\n      <td>-0.017690</td>\n      <td>0.067028</td>\n      <td>0.036452</td>\n    </tr>\n  </tbody>\n</table>\n<p>401 rows × 130 columns</p>\n</div>"
     },
     "metadata": {},
     "execution_count": 5
    }
   ],
   "source": [
    "df.head(401)"
   ]
  },
  {
   "cell_type": "code",
   "execution_count": 6,
   "metadata": {},
   "outputs": [
    {
     "output_type": "execute_result",
     "data": {
      "text/plain": [
       "(array(['female', 'male'], dtype=object), array([401, 399], dtype=int64))"
      ]
     },
     "metadata": {},
     "execution_count": 6
    }
   ],
   "source": [
    "gender=np.unique(df[\"Unnamed: 1\"],return_counts=True)\n",
    "gender"
   ]
  },
  {
   "cell_type": "code",
   "execution_count": 7,
   "metadata": {},
   "outputs": [
    {
     "output_type": "execute_result",
     "data": {
      "text/plain": [
       "Index(['Unnamed: 0', 'Unnamed: 1', '0', '1', '2', '3', '4', '5', '6', '7',\n",
       "       ...\n",
       "       '118', '119', '120', '121', '122', '123', '124', '125', '126', '127'],\n",
       "      dtype='object', length=130)"
      ]
     },
     "metadata": {},
     "execution_count": 7
    }
   ],
   "source": [
    "df.columns"
   ]
  },
  {
   "cell_type": "code",
   "execution_count": 8,
   "metadata": {},
   "outputs": [],
   "source": [
    "vectors=df.drop(['Unnamed: 0', 'Unnamed: 1'],axis=1)"
   ]
  },
  {
   "cell_type": "code",
   "execution_count": 9,
   "metadata": {},
   "outputs": [
    {
     "output_type": "execute_result",
     "data": {
      "text/plain": [
       "          0         1         2         3         4         5         6  \\\n",
       "0 -0.066420  0.151611  0.027740  0.052771 -0.066105 -0.041232 -0.002637   \n",
       "1 -0.030614  0.049667  0.008084 -0.050324  0.007649 -0.063818 -0.019530   \n",
       "\n",
       "          7         8         9  ...       118       119       120       121  \\\n",
       "0 -0.158467  0.130467 -0.044872  ...  0.025989 -0.001087  0.027260 -0.046754   \n",
       "1 -0.119905  0.186553 -0.044821  ...  0.044229 -0.023900 -0.028108  0.040618   \n",
       "\n",
       "        122       123       124       125       126       127  \n",
       "0 -0.118619 -0.163774 -0.000590 -0.076400  0.107497  0.001567  \n",
       "1 -0.146579 -0.141244  0.016162  0.017638  0.080610 -0.015930  \n",
       "\n",
       "[2 rows x 128 columns]"
      ],
      "text/html": "<div>\n<style scoped>\n    .dataframe tbody tr th:only-of-type {\n        vertical-align: middle;\n    }\n\n    .dataframe tbody tr th {\n        vertical-align: top;\n    }\n\n    .dataframe thead th {\n        text-align: right;\n    }\n</style>\n<table border=\"1\" class=\"dataframe\">\n  <thead>\n    <tr style=\"text-align: right;\">\n      <th></th>\n      <th>0</th>\n      <th>1</th>\n      <th>2</th>\n      <th>3</th>\n      <th>4</th>\n      <th>5</th>\n      <th>6</th>\n      <th>7</th>\n      <th>8</th>\n      <th>9</th>\n      <th>...</th>\n      <th>118</th>\n      <th>119</th>\n      <th>120</th>\n      <th>121</th>\n      <th>122</th>\n      <th>123</th>\n      <th>124</th>\n      <th>125</th>\n      <th>126</th>\n      <th>127</th>\n    </tr>\n  </thead>\n  <tbody>\n    <tr>\n      <th>0</th>\n      <td>-0.066420</td>\n      <td>0.151611</td>\n      <td>0.027740</td>\n      <td>0.052771</td>\n      <td>-0.066105</td>\n      <td>-0.041232</td>\n      <td>-0.002637</td>\n      <td>-0.158467</td>\n      <td>0.130467</td>\n      <td>-0.044872</td>\n      <td>...</td>\n      <td>0.025989</td>\n      <td>-0.001087</td>\n      <td>0.027260</td>\n      <td>-0.046754</td>\n      <td>-0.118619</td>\n      <td>-0.163774</td>\n      <td>-0.000590</td>\n      <td>-0.076400</td>\n      <td>0.107497</td>\n      <td>0.001567</td>\n    </tr>\n    <tr>\n      <th>1</th>\n      <td>-0.030614</td>\n      <td>0.049667</td>\n      <td>0.008084</td>\n      <td>-0.050324</td>\n      <td>0.007649</td>\n      <td>-0.063818</td>\n      <td>-0.019530</td>\n      <td>-0.119905</td>\n      <td>0.186553</td>\n      <td>-0.044821</td>\n      <td>...</td>\n      <td>0.044229</td>\n      <td>-0.023900</td>\n      <td>-0.028108</td>\n      <td>0.040618</td>\n      <td>-0.146579</td>\n      <td>-0.141244</td>\n      <td>0.016162</td>\n      <td>0.017638</td>\n      <td>0.080610</td>\n      <td>-0.015930</td>\n    </tr>\n  </tbody>\n</table>\n<p>2 rows × 128 columns</p>\n</div>"
     },
     "metadata": {},
     "execution_count": 9
    }
   ],
   "source": [
    "vectors.head(2)"
   ]
  },
  {
   "cell_type": "code",
   "execution_count": 10,
   "metadata": {},
   "outputs": [],
   "source": [
    "vec_np=vectors.to_numpy()"
   ]
  },
  {
   "cell_type": "markdown",
   "metadata": {},
   "source": [
    "## Scale the data so as to not get an impractical determinant"
   ]
  },
  {
   "cell_type": "code",
   "execution_count": 11,
   "metadata": {},
   "outputs": [],
   "source": [
    "vec_np=vec_np*1000"
   ]
  },
  {
   "cell_type": "code",
   "execution_count": 12,
   "metadata": {},
   "outputs": [],
   "source": [
    "#from the computation above\n",
    "p_male=(399-5)/790\n",
    "p_female=(401-5)/790"
   ]
  },
  {
   "cell_type": "code",
   "execution_count": 13,
   "metadata": {},
   "outputs": [],
   "source": [
    "test_male=vec_np[0:5]\n",
    "test_female=vec_np[399:404]\n",
    "train_male=vec_np[5:399]\n",
    "train_m_mean=np.mean(train_male,axis=0)\n",
    "train_female=vec_np[404:800]\n",
    "train_f_mean=np.mean(train_female,axis=0)"
   ]
  },
  {
   "cell_type": "code",
   "execution_count": 14,
   "metadata": {},
   "outputs": [],
   "source": [
    "covar_f=np.cov(np.transpose(train_female),ddof=1)\n",
    "incovar_f=np.linalg.inv(covar_f)\n",
    "covar_m=np.cov(np.transpose(train_male),ddof=1)\n",
    "incovar_m=np.linalg.inv(covar_m)"
   ]
  },
  {
   "cell_type": "code",
   "execution_count": 15,
   "metadata": {},
   "outputs": [
    {
     "output_type": "stream",
     "name": "stdout",
     "text": [
      "female: 5.001428883516973e-96 male: 7.444467112593653e-95\n"
     ]
    }
   ],
   "source": [
    "det_f=np.linalg.det(covar_f)#for female\n",
    "det_m=np.linalg.det(covar_m)#for male\n",
    "#log_det_f=math.log(det_f)+math.log(10)*(-5*128)\n",
    "#log_det_m=math.log(det_m)+math.log(10)*(-5*128)\n",
    "print(\"female:\",det_f,\"male:\",det_m)"
   ]
  },
  {
   "source": [
    "## For easier representation we use the log( p(wi|x) ), we ignore p(x)\n",
    "## log( p(x|wi) )+ log( wi ) will be the deciding factor\n",
    "## log( p(x|wi) ) is further reduced to [-0.5 * (x-mean)t.(inv_cov_i).(x-mean)] - [0.5*log(det(cov_i))]\n",
    "\n",
    "# [-0.5 * (x-mean)t.(inv_cov_i).(x-mean)] - [0.5*log(det(cov_i))] + p(wi) is computed and it is used to draw conclusions"
   ],
   "cell_type": "markdown",
   "metadata": {}
  },
  {
   "cell_type": "code",
   "execution_count": 16,
   "metadata": {},
   "outputs": [],
   "source": [
    "#K=math.log(math.pi*2)*128/2\n",
    "def probmale(x):\n",
    "    v=x-train_m_mean\n",
    "    #print(v)\n",
    "    #print(np.dot(incovar_m,v.transpose()))\n",
    "    #v.incovar_m.vT\n",
    "    ex=np.dot(v,np.dot(incovar_m,v))*(-0.5)\n",
    "    #print(\"ex==\",ex)\n",
    "    return ex-(math.log(det_m)*0.5)#-K\n",
    "\n",
    "def probfemale(x):\n",
    "    v=x-train_f_mean\n",
    "    #print(v)\n",
    "    #print(np.dot(incovar_m,v.transpose()))\n",
    "    #v.incovar_m.vT\n",
    "    ex=np.dot(v,np.dot(incovar_f,v))*(-0.5)\n",
    "    return ex-(math.log(det_f)*0.5)#-K"
   ]
  },
  {
   "cell_type": "code",
   "execution_count": 17,
   "metadata": {},
   "outputs": [],
   "source": [
    "def classify(x,expected,error):\n",
    "    f=probfemale(x)+math.log(p_female)\n",
    "    m=probmale(x)+math.log(p_male)\n",
    "    if(f>m):\n",
    "        if(expected==\"Female\"):\n",
    "            error.append(1)\n",
    "        else:\n",
    "            error.append(0)\n",
    "        return \"Female, Measure its female=\"+str(f)+\" Measure its male=\"+str(m)\n",
    "    else:\n",
    "        if(expected==\"Female\"):\n",
    "            error.append(0)\n",
    "        else:\n",
    "            error.append(1)\n",
    "        return \"Male, Measure its female=\"+str(f)+\" Measure its male=\"+str(m)"
   ]
  },
  {
   "cell_type": "code",
   "execution_count": 18,
   "metadata": {},
   "outputs": [
    {
     "output_type": "stream",
     "name": "stdout",
     "text": [
      "Actual class=Male Predicted = Male, Measure its female=-65.01822438742384 Measure its male=27.304517170112987\nActual class=Male Predicted = Male, Measure its female=-69.74692850699067 Measure its male=22.94953125405725\nActual class=Male Predicted = Male, Measure its female=-107.29348829294905 Measure its male=22.77969605818059\nActual class=Male Predicted = Male, Measure its female=-55.951859211077696 Measure its male=27.50575843155518\nActual class=Male Predicted = Male, Measure its female=-118.02287341839984 Measure its male=12.10170008794073\n\nActual class=Female Predicted = Male, Measure its female=-124.7631606813462 Measure its male=-7.726351199041644\nActual class=Female Predicted = Male, Measure its female=-81.73709893924534 Measure its male=4.12950393512135\nActual class=Female Predicted = Female, Measure its female=20.371837545657748 Measure its male=-221.5942249824978\nActual class=Female Predicted = Female, Measure its female=20.529539722896864 Measure its male=-112.92014568445605\nActual class=Female Predicted = Female, Measure its female=-2.3156837158545533 Measure its male=-206.97535687039937\n"
     ]
    }
   ],
   "source": [
    "error=[]\n",
    "for i in test_male:\n",
    "    print(\"Actual class=Male\",\"Predicted =\",classify(i,\"Male\",error))\n",
    "    \n",
    "print()\n",
    "for i in test_female:\n",
    "    print(\"Actual class=Female\",\"Predicted =\",classify(i,\"Female\",error))"
   ]
  },
  {
   "cell_type": "markdown",
   "metadata": {},
   "source": [
    "These values are simply measures"
   ]
  },
  {
   "cell_type": "code",
   "execution_count": 19,
   "metadata": {},
   "outputs": [
    {
     "output_type": "stream",
     "name": "stdout",
     "text": [
      "Accuracy= 0.8\n"
     ]
    }
   ],
   "source": [
    "Accuracy=sum(error)/len(error)\n",
    "print(\"Accuracy=\",Accuracy)"
   ]
  }
 ],
 "metadata": {
  "kernelspec": {
   "display_name": "Python 3",
   "language": "python",
   "name": "python3"
  },
  "language_info": {
   "codemirror_mode": {
    "name": "ipython",
    "version": 3
   },
   "file_extension": ".py",
   "mimetype": "text/x-python",
   "name": "python",
   "nbconvert_exporter": "python",
   "pygments_lexer": "ipython3",
   "version": "3.9.1-final"
  }
 },
 "nbformat": 4,
 "nbformat_minor": 4
}