{
 "cells": [
  {
   "cell_type": "markdown",
   "id": "stable-brisbane",
   "metadata": {},
   "source": [
    "# Q4\n",
    "## Implement Bayes Classifier for Iris Dataset.\n",
    "\n",
    "Dataset Specifications:\n",
    "\n",
    "Total number of samples = 150\n",
    "\n",
    "Number of classes = 3 (Iris setosa, Iris virginica, and Iris versicolor)\n",
    "\n",
    "Number of samples in each class = 50\n",
    "\n",
    "Use the following information to design classifier:\n",
    "\n",
    "Number of training feature vectors ( first 40 in each class) = 40\n",
    "\n",
    "Number of test feature vectors ( remaining 10 in each class) = 10\n",
    "\n",
    "Number of dimensions = 4\n",
    "\n",
    "Feature vector = <sepal length, sepal width, petal length, petal width>\n",
    "\n",
    "If the samples follow a multivariate normal density, find the accuracy of classification for the test\n",
    "feature vectors."
   ]
  },
  {
   "cell_type": "code",
   "execution_count": 8,
   "id": "bibliographic-religion",
   "metadata": {},
   "outputs": [],
   "source": [
    "import pandas as pd\n",
    "import matplotlib.pyplot as plt\n",
    "import numpy as np\n",
    "import math"
   ]
  },
  {
   "cell_type": "code",
   "execution_count": 9,
   "id": "automated-parade",
   "metadata": {},
   "outputs": [
    {
     "output_type": "execute_result",
     "data": {
      "text/plain": [
       "   sepal.length  sepal.width  petal.length  petal.width variety\n",
       "0           5.1          3.5           1.4          0.2  Setosa\n",
       "1           4.9          3.0           1.4          0.2  Setosa\n",
       "2           4.7          3.2           1.3          0.2  Setosa\n",
       "3           4.6          3.1           1.5          0.2  Setosa\n",
       "4           5.0          3.6           1.4          0.2  Setosa\n",
       "5           5.4          3.9           1.7          0.4  Setosa\n",
       "6           4.6          3.4           1.4          0.3  Setosa\n",
       "7           5.0          3.4           1.5          0.2  Setosa\n",
       "8           4.4          2.9           1.4          0.2  Setosa\n",
       "9           4.9          3.1           1.5          0.1  Setosa"
      ],
      "text/html": "<div>\n<style scoped>\n    .dataframe tbody tr th:only-of-type {\n        vertical-align: middle;\n    }\n\n    .dataframe tbody tr th {\n        vertical-align: top;\n    }\n\n    .dataframe thead th {\n        text-align: right;\n    }\n</style>\n<table border=\"1\" class=\"dataframe\">\n  <thead>\n    <tr style=\"text-align: right;\">\n      <th></th>\n      <th>sepal.length</th>\n      <th>sepal.width</th>\n      <th>petal.length</th>\n      <th>petal.width</th>\n      <th>variety</th>\n    </tr>\n  </thead>\n  <tbody>\n    <tr>\n      <th>0</th>\n      <td>5.1</td>\n      <td>3.5</td>\n      <td>1.4</td>\n      <td>0.2</td>\n      <td>Setosa</td>\n    </tr>\n    <tr>\n      <th>1</th>\n      <td>4.9</td>\n      <td>3.0</td>\n      <td>1.4</td>\n      <td>0.2</td>\n      <td>Setosa</td>\n    </tr>\n    <tr>\n      <th>2</th>\n      <td>4.7</td>\n      <td>3.2</td>\n      <td>1.3</td>\n      <td>0.2</td>\n      <td>Setosa</td>\n    </tr>\n    <tr>\n      <th>3</th>\n      <td>4.6</td>\n      <td>3.1</td>\n      <td>1.5</td>\n      <td>0.2</td>\n      <td>Setosa</td>\n    </tr>\n    <tr>\n      <th>4</th>\n      <td>5.0</td>\n      <td>3.6</td>\n      <td>1.4</td>\n      <td>0.2</td>\n      <td>Setosa</td>\n    </tr>\n    <tr>\n      <th>5</th>\n      <td>5.4</td>\n      <td>3.9</td>\n      <td>1.7</td>\n      <td>0.4</td>\n      <td>Setosa</td>\n    </tr>\n    <tr>\n      <th>6</th>\n      <td>4.6</td>\n      <td>3.4</td>\n      <td>1.4</td>\n      <td>0.3</td>\n      <td>Setosa</td>\n    </tr>\n    <tr>\n      <th>7</th>\n      <td>5.0</td>\n      <td>3.4</td>\n      <td>1.5</td>\n      <td>0.2</td>\n      <td>Setosa</td>\n    </tr>\n    <tr>\n      <th>8</th>\n      <td>4.4</td>\n      <td>2.9</td>\n      <td>1.4</td>\n      <td>0.2</td>\n      <td>Setosa</td>\n    </tr>\n    <tr>\n      <th>9</th>\n      <td>4.9</td>\n      <td>3.1</td>\n      <td>1.5</td>\n      <td>0.1</td>\n      <td>Setosa</td>\n    </tr>\n  </tbody>\n</table>\n</div>"
     },
     "metadata": {},
     "execution_count": 9
    }
   ],
   "source": [
    "df = pd.read_csv(\"Iris_dataset.csv\", header=0)\n",
    "df.head(10)"
   ]
  },
  {
   "cell_type": "code",
   "execution_count": 10,
   "id": "sixth-treasurer",
   "metadata": {},
   "outputs": [
    {
     "output_type": "execute_result",
     "data": {
      "text/plain": [
       "(array(['Setosa', 'Versicolor', 'Virginica'], dtype=object),\n",
       " array([50, 50, 50], dtype=int64))"
      ]
     },
     "metadata": {},
     "execution_count": 10
    }
   ],
   "source": [
    "variety = np.unique(df[\"variety\"],return_counts=True)\n",
    "variety"
   ]
  },
  {
   "cell_type": "code",
   "execution_count": 11,
   "id": "economic-seventh",
   "metadata": {},
   "outputs": [],
   "source": [
    "df = df.drop(['variety'],axis=1)\n",
    "vec_np = df.to_numpy()"
   ]
  },
  {
   "cell_type": "code",
   "execution_count": 12,
   "id": "committed-stereo",
   "metadata": {},
   "outputs": [
    {
     "output_type": "execute_result",
     "data": {
      "text/plain": [
       "0.3333333333333333"
      ]
     },
     "metadata": {},
     "execution_count": 12
    }
   ],
   "source": [
    "priori_prob = 40/120\n",
    "priori_prob"
   ]
  },
  {
   "cell_type": "code",
   "execution_count": 12,
   "id": "accredited-feelings",
   "metadata": {},
   "outputs": [],
   "source": [
    "test={}\n",
    "test['Setosa'] = vec_np[40:50]\n",
    "test['Versicolor'] = vec_np[90:100]\n",
    "test['Virginica'] = vec_np[140:150]\n",
    "\n",
    "train={}\n",
    "train['Setosa'] = vec_np[0:40]\n",
    "train['Versicolor'] = vec_np[50:90]\n",
    "train['Virginica'] = vec_np[100:140]\n",
    "\n",
    "train_mean = {}\n",
    "train_covar={}\n",
    "train_incovar={}\n",
    "det = {}\n",
    "class_names = ['Setosa','Versicolor', 'Virginica']\n",
    "\n",
    "for i in class_names: \n",
    "    train_mean[i] = np.mean(train[i],axis=0)\n",
    "    train_covar[i] = np.cov(np.transpose(train[i]),ddof=1)\n",
    "    train_incovar[i] = np.linalg.inv(train_covar[i])\n",
    "    det[i] = np.linalg.det(train_covar[i])"
   ]
  },
  {
   "cell_type": "code",
   "execution_count": 16,
   "id": "appointed-cooper",
   "metadata": {},
   "outputs": [],
   "source": [
    "def prob(x, variety, priori_prob):\n",
    "    v = x - train_mean[variety]\n",
    "    ex = np.dot(v, np.dot(train_incovar[variety], v)) * (- 0.5)\n",
    "    return ex - (math.log(det[variety]) * 0.5) + math.log(priori_prob)"
   ]
  },
  {
   "cell_type": "code",
   "execution_count": 19,
   "id": "colonial-consciousness",
   "metadata": {},
   "outputs": [],
   "source": [
    "def classify(x,expected,error):\n",
    "    seto_p = prob(x,'Setosa', priori_prob)\n",
    "    virg_p = prob(x, 'Virginica', priori_prob)\n",
    "    vers_p = prob(x, 'Versicolor', priori_prob)\n",
    "    \n",
    "    if(seto_p > virg_p and seto_p > vers_p):\n",
    "        if(expected == 'Setosa'):\n",
    "            error.append(1)\n",
    "        else:\n",
    "            error.append(0)\n",
    "        return \"Setosa, Setosa=\"+str(seto_p)+\" Virginica=\"+str(virg_p)+\" Versicolor=\"+str(vers_p)\n",
    "    elif(virg_p > seto_p and virg_p > vers_p):\n",
    "        if(expected == 'Virginica'):\n",
    "            error.append(1)\n",
    "        else:\n",
    "            error.append(0)\n",
    "        return \"Virginica, Setosa=\"+str(seto_p)+\" Virginica=\"+str(virg_p)+\" Versicolor=\"+str(vers_p)\n",
    "    elif(vers_p > virg_p and vers_p > seto_p):\n",
    "        if(expected == 'Versicolor'):\n",
    "            error.append(1)\n",
    "        else:\n",
    "            error.append(0)\n",
    "        return \"Versicolor, Setosa=\"+str(seto_p)+\" Virginica=\"+str(virg_p)+\" Versicolor=\"+str(vers_p)\n",
    "\n"
   ]
  },
  {
   "cell_type": "code",
   "execution_count": 20,
   "id": "packed-associate",
   "metadata": {},
   "outputs": [
    {
     "name": "stdout",
     "output_type": "stream",
     "text": [
      "Actual class = Setosa Predicted = Setosa, Setosa=4.63310387911235Virginica=-78.07995969820902Versicolor=-48.60922516630989\n",
      "Actual class = Setosa Predicted = Setosa, Setosa=-3.2551783239922676Virginica=-55.722793384945234Versicolor=-24.502686750246124\n",
      "Actual class = Setosa Predicted = Setosa, Setosa=3.4757546187007247Virginica=-63.53789071428236Versicolor=-40.637442564564424\n",
      "Actual class = Setosa Predicted = Setosa, Setosa=-2.759553396581521Virginica=-62.303428372793796Versicolor=-37.59257278742209\n",
      "Actual class = Setosa Predicted = Setosa, Setosa=0.2619479039663155Virginica=-64.37245580978977Versicolor=-43.933636217951545\n",
      "Actual class = Setosa Predicted = Setosa, Setosa=3.817470291471741Virginica=-63.23682014839941Versicolor=-33.5639692508607\n",
      "Actual class = Setosa Predicted = Setosa, Setosa=3.838270235832767Virginica=-78.16970449707452Versicolor=-55.76911987993149\n",
      "Actual class = Setosa Predicted = Setosa, Setosa=4.807118182623779Virginica=-63.936968198403584Versicolor=-39.415256180488015\n",
      "Actual class = Setosa Predicted = Setosa, Setosa=4.997730003311306Virginica=-83.4438279370776Versicolor=-54.86997979406366\n",
      "Actual class = Setosa Predicted = Setosa, Setosa=5.332468344682654Virginica=-73.34493084245844Versicolor=-43.55262909490941\n",
      "\n",
      "Actual class = Versicolor Predicted = Versicolor, Setosa=-165.84898089486697Virginica=-1.7518564592386159Versicolor=1.1531533755656544\n",
      "Actual class = Versicolor Predicted = Versicolor, Setosa=-194.06353129577965Virginica=-1.4212120245487527Versicolor=3.4712203605935743\n",
      "Actual class = Versicolor Predicted = Versicolor, Setosa=-133.46182561290368Virginica=-5.508073260619111Versicolor=3.9445758013318697\n",
      "Actual class = Versicolor Predicted = Versicolor, Setosa=-79.09246960349297Virginica=-9.51715519052761Versicolor=1.57598324248341\n",
      "Actual class = Versicolor Predicted = Versicolor, Setosa=-155.63994069618437Virginica=-2.033115150820656Versicolor=3.7803205957079458\n",
      "Actual class = Versicolor Predicted = Versicolor, Setosa=-143.8027471538136Virginica=-4.783961187154778Versicolor=1.8599076385940527\n",
      "Actual class = Versicolor Predicted = Versicolor, Setosa=-152.91326466916877Virginica=-3.1098769153104104Versicolor=3.574350153823926\n",
      "Actual class = Versicolor Predicted = Versicolor, Setosa=-161.0126845701451Virginica=-4.979546926175881Versicolor=3.9062372169050468\n",
      "Actual class = Versicolor Predicted = Versicolor, Setosa=-70.82415291797919Virginica=-14.46783637791001Versicolor=-2.1118334604597297\n",
      "Actual class = Versicolor Predicted = Versicolor, Setosa=-146.31035993407272Virginica=-3.484517463253436Versicolor=3.9583898272844014\n",
      "\n",
      "Actual class = Virginica Predicted = Virginica, Setosa=-437.2747764912006Virginica=1.79076794138966Versicolor=-15.340498209494312\n",
      "Actual class = Virginica Predicted = Virginica, Setosa=-367.825234864872Virginica=-2.5820593156438116Versicolor=-18.05144968002979\n",
      "Actual class = Virginica Predicted = Virginica, Setosa=-309.07631514785305Virginica=2.4811972835128424Versicolor=-3.613044769017386\n",
      "Actual class = Virginica Predicted = Virginica, Setosa=-450.6539938003157Virginica=2.606616435129874Versicolor=-8.926037243360287\n",
      "Actual class = Virginica Predicted = Virginica, Setosa=-465.2054434216215Virginica=1.3739613840248464Versicolor=-17.076602995642965\n",
      "Actual class = Virginica Predicted = Virginica, Setosa=-379.00157860178103Virginica=-0.10866626367053267Versicolor=-16.2918994414847\n",
      "Actual class = Virginica Predicted = Virginica, Setosa=-301.91659724552017Virginica=0.944208544956602Versicolor=-5.776613692655541\n",
      "Actual class = Virginica Predicted = Virginica, Setosa=-326.10513469358636Virginica=2.527461673129441Versicolor=-2.7522998607563496\n",
      "Actual class = Virginica Predicted = Virginica, Setosa=-396.47202228340905Virginica=1.2269490526146016Versicolor=-9.38922880093581\n",
      "Actual class = Virginica Predicted = Virginica, Setosa=-290.01841123560627Virginica=2.049187263705627Versicolor=-0.03632815644270493\n",
      "\n"
     ]
    }
   ],
   "source": [
    "error=[]\n",
    "for j in class_names:\n",
    "    for i in test[j]:\n",
    "        print(\"Actual class = \"+str(j)+\" Predicted =\",classify(i,j,error))\n",
    "    print()\n"
   ]
  },
  {
   "cell_type": "code",
   "execution_count": 18,
   "id": "clinical-closing",
   "metadata": {},
   "outputs": [
    {
     "name": "stdout",
     "output_type": "stream",
     "text": [
      "Accuracy= 1.0\n"
     ]
    }
   ],
   "source": [
    "Accuracy=sum(error)/len(error)\n",
    "print(\"Accuracy=\",Accuracy)"
   ]
  }
 ],
 "metadata": {
  "kernelspec": {
   "display_name": "Python 3",
   "language": "python",
   "name": "python3"
  },
  "language_info": {
   "codemirror_mode": {
    "name": "ipython",
    "version": 3
   },
   "file_extension": ".py",
   "mimetype": "text/x-python",
   "name": "python",
   "nbconvert_exporter": "python",
   "pygments_lexer": "ipython3",
   "version": "3.9.1-final"
  }
 },
 "nbformat": 4,
 "nbformat_minor": 5
}