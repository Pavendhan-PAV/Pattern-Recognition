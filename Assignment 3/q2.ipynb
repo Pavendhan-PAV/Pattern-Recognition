{
 "cells": [
  {
   "cell_type": "markdown",
   "metadata": {},
   "source": [
    "## Question 2"
   ]
  },
  {
   "cell_type": "code",
   "execution_count": 20,
   "metadata": {
    "colab": {
     "base_uri": "https://localhost:8080/"
    },
    "id": "Vj8KcuinVT_4",
    "outputId": "7ae27fe5-39cb-4f5a-97ae-9388da417a3c"
   },
   "outputs": [],
   "source": [
    "import pandas as pd\n",
    "import numpy as np\n",
    "from matplotlib import pyplot as plt\n",
    "import seaborn as sns\n",
    "from sklearn.naive_bayes import GaussianNB\n",
    "import scikitplot as skplt"
   ]
  },
  {
   "cell_type": "code",
   "execution_count": 21,
   "metadata": {
    "id": "an76CdxsZ9OO"
   },
   "outputs": [],
   "source": [
    "df= pd.read_csv(('gender_feature_vectors.csv'),index_col=0)\n",
    "df.drop(df.columns[df.columns.str.contains('unnamed',case = False)],axis = 1, inplace = True)"
   ]
  },
  {
   "cell_type": "markdown",
   "metadata": {
    "id": "FXVs5d9EcTXr"
   },
   "source": [
    "First 399 are male category\n",
    "Next 401 are male category"
   ]
  },
  {
   "cell_type": "code",
   "execution_count": 22,
   "metadata": {
    "colab": {
     "base_uri": "https://localhost:8080/",
     "height": 456
    },
    "id": "1IpoohPXaYq7",
    "outputId": "aa4c0271-068b-439d-a922-43dab39d5653"
   },
   "outputs": [
    {
     "name": "stdout",
     "output_type": "stream",
     "text": [
      "(800, 128)\n"
     ]
    },
    {
     "data": {
      "text/html": [
       "<div>\n",
       "<style scoped>\n",
       "    .dataframe tbody tr th:only-of-type {\n",
       "        vertical-align: middle;\n",
       "    }\n",
       "\n",
       "    .dataframe tbody tr th {\n",
       "        vertical-align: top;\n",
       "    }\n",
       "\n",
       "    .dataframe thead th {\n",
       "        text-align: right;\n",
       "    }\n",
       "</style>\n",
       "<table border=\"1\" class=\"dataframe\">\n",
       "  <thead>\n",
       "    <tr style=\"text-align: right;\">\n",
       "      <th></th>\n",
       "      <th>0</th>\n",
       "      <th>1</th>\n",
       "      <th>2</th>\n",
       "      <th>3</th>\n",
       "      <th>4</th>\n",
       "      <th>5</th>\n",
       "      <th>6</th>\n",
       "      <th>7</th>\n",
       "      <th>8</th>\n",
       "      <th>9</th>\n",
       "      <th>...</th>\n",
       "      <th>118</th>\n",
       "      <th>119</th>\n",
       "      <th>120</th>\n",
       "      <th>121</th>\n",
       "      <th>122</th>\n",
       "      <th>123</th>\n",
       "      <th>124</th>\n",
       "      <th>125</th>\n",
       "      <th>126</th>\n",
       "      <th>127</th>\n",
       "    </tr>\n",
       "  </thead>\n",
       "  <tbody>\n",
       "    <tr>\n",
       "      <th>1</th>\n",
       "      <td>-664.19959</td>\n",
       "      <td>1516.11447</td>\n",
       "      <td>277.39607</td>\n",
       "      <td>527.70555</td>\n",
       "      <td>-661.04963</td>\n",
       "      <td>-412.32228</td>\n",
       "      <td>-26.37491</td>\n",
       "      <td>-1584.66667</td>\n",
       "      <td>1304.66834</td>\n",
       "      <td>-448.72317</td>\n",
       "      <td>...</td>\n",
       "      <td>259.89352</td>\n",
       "      <td>-10.87022</td>\n",
       "      <td>272.60248</td>\n",
       "      <td>-467.53619</td>\n",
       "      <td>-1186.19218</td>\n",
       "      <td>-1637.74058</td>\n",
       "      <td>-5.90186</td>\n",
       "      <td>-764.00161</td>\n",
       "      <td>1074.97230</td>\n",
       "      <td>15.66540</td>\n",
       "    </tr>\n",
       "    <tr>\n",
       "      <th>2</th>\n",
       "      <td>-306.13856</td>\n",
       "      <td>496.66520</td>\n",
       "      <td>80.83738</td>\n",
       "      <td>-503.23568</td>\n",
       "      <td>76.49306</td>\n",
       "      <td>-638.18008</td>\n",
       "      <td>-195.30300</td>\n",
       "      <td>-1199.05055</td>\n",
       "      <td>1865.53150</td>\n",
       "      <td>-448.21102</td>\n",
       "      <td>...</td>\n",
       "      <td>442.28636</td>\n",
       "      <td>-238.99905</td>\n",
       "      <td>-281.07917</td>\n",
       "      <td>406.17973</td>\n",
       "      <td>-1465.78565</td>\n",
       "      <td>-1412.43964</td>\n",
       "      <td>161.61639</td>\n",
       "      <td>176.38400</td>\n",
       "      <td>806.09657</td>\n",
       "      <td>-159.29665</td>\n",
       "    </tr>\n",
       "    <tr>\n",
       "      <th>3</th>\n",
       "      <td>-961.77682</td>\n",
       "      <td>611.26690</td>\n",
       "      <td>353.26038</td>\n",
       "      <td>-353.88201</td>\n",
       "      <td>-907.28119</td>\n",
       "      <td>-186.34144</td>\n",
       "      <td>-243.14573</td>\n",
       "      <td>-1397.85841</td>\n",
       "      <td>522.10610</td>\n",
       "      <td>-520.85493</td>\n",
       "      <td>...</td>\n",
       "      <td>1111.40914</td>\n",
       "      <td>594.35967</td>\n",
       "      <td>-292.22304</td>\n",
       "      <td>421.15204</td>\n",
       "      <td>-2221.73139</td>\n",
       "      <td>-1169.07775</td>\n",
       "      <td>934.28336</td>\n",
       "      <td>173.91473</td>\n",
       "      <td>576.51997</td>\n",
       "      <td>861.16344</td>\n",
       "    </tr>\n",
       "    <tr>\n",
       "      <th>4</th>\n",
       "      <td>-1030.57027</td>\n",
       "      <td>850.43512</td>\n",
       "      <td>783.32767</td>\n",
       "      <td>-358.73279</td>\n",
       "      <td>-281.62964</td>\n",
       "      <td>49.24194</td>\n",
       "      <td>78.28606</td>\n",
       "      <td>-170.15841</td>\n",
       "      <td>1149.06780</td>\n",
       "      <td>-562.67440</td>\n",
       "      <td>...</td>\n",
       "      <td>1007.93056</td>\n",
       "      <td>-26.43529</td>\n",
       "      <td>-233.88058</td>\n",
       "      <td>294.97493</td>\n",
       "      <td>-1398.30381</td>\n",
       "      <td>-1192.43421</td>\n",
       "      <td>53.05942</td>\n",
       "      <td>-151.00250</td>\n",
       "      <td>1615.75377</td>\n",
       "      <td>624.62494</td>\n",
       "    </tr>\n",
       "    <tr>\n",
       "      <th>5</th>\n",
       "      <td>-1258.15049</td>\n",
       "      <td>1200.45893</td>\n",
       "      <td>231.31274</td>\n",
       "      <td>-429.01006</td>\n",
       "      <td>382.14993</td>\n",
       "      <td>-496.76508</td>\n",
       "      <td>-542.58350</td>\n",
       "      <td>-1307.58137</td>\n",
       "      <td>1734.57026</td>\n",
       "      <td>-118.89388</td>\n",
       "      <td>...</td>\n",
       "      <td>901.96997</td>\n",
       "      <td>675.27123</td>\n",
       "      <td>399.25553</td>\n",
       "      <td>474.68532</td>\n",
       "      <td>-568.52028</td>\n",
       "      <td>-767.00419</td>\n",
       "      <td>49.65664</td>\n",
       "      <td>281.70791</td>\n",
       "      <td>260.41389</td>\n",
       "      <td>841.35175</td>\n",
       "    </tr>\n",
       "    <tr>\n",
       "      <th>...</th>\n",
       "      <td>...</td>\n",
       "      <td>...</td>\n",
       "      <td>...</td>\n",
       "      <td>...</td>\n",
       "      <td>...</td>\n",
       "      <td>...</td>\n",
       "      <td>...</td>\n",
       "      <td>...</td>\n",
       "      <td>...</td>\n",
       "      <td>...</td>\n",
       "      <td>...</td>\n",
       "      <td>...</td>\n",
       "      <td>...</td>\n",
       "      <td>...</td>\n",
       "      <td>...</td>\n",
       "      <td>...</td>\n",
       "      <td>...</td>\n",
       "      <td>...</td>\n",
       "      <td>...</td>\n",
       "      <td>...</td>\n",
       "      <td>...</td>\n",
       "    </tr>\n",
       "    <tr>\n",
       "      <th>397</th>\n",
       "      <td>-1584.60408</td>\n",
       "      <td>1099.47540</td>\n",
       "      <td>190.87646</td>\n",
       "      <td>155.06018</td>\n",
       "      <td>-696.68218</td>\n",
       "      <td>323.11093</td>\n",
       "      <td>150.61509</td>\n",
       "      <td>-1408.17016</td>\n",
       "      <td>1411.32370</td>\n",
       "      <td>-367.36101</td>\n",
       "      <td>...</td>\n",
       "      <td>1434.52629</td>\n",
       "      <td>596.08385</td>\n",
       "      <td>-68.24113</td>\n",
       "      <td>567.57592</td>\n",
       "      <td>-643.51834</td>\n",
       "      <td>-1085.18042</td>\n",
       "      <td>1320.37297</td>\n",
       "      <td>503.47116</td>\n",
       "      <td>714.65053</td>\n",
       "      <td>-229.54455</td>\n",
       "    </tr>\n",
       "    <tr>\n",
       "      <th>398</th>\n",
       "      <td>-1014.99282</td>\n",
       "      <td>1197.38773</td>\n",
       "      <td>169.50686</td>\n",
       "      <td>-136.76908</td>\n",
       "      <td>-555.23962</td>\n",
       "      <td>283.99080</td>\n",
       "      <td>281.64148</td>\n",
       "      <td>-1520.99669</td>\n",
       "      <td>1098.13653</td>\n",
       "      <td>-120.78913</td>\n",
       "      <td>...</td>\n",
       "      <td>464.88289</td>\n",
       "      <td>510.43943</td>\n",
       "      <td>-82.98119</td>\n",
       "      <td>180.10424</td>\n",
       "      <td>-1641.96745</td>\n",
       "      <td>-1222.91595</td>\n",
       "      <td>326.15762</td>\n",
       "      <td>-301.93698</td>\n",
       "      <td>-186.42161</td>\n",
       "      <td>328.20672</td>\n",
       "    </tr>\n",
       "    <tr>\n",
       "      <th>399</th>\n",
       "      <td>-1495.15584</td>\n",
       "      <td>815.88000</td>\n",
       "      <td>907.95673</td>\n",
       "      <td>-531.16299</td>\n",
       "      <td>-1333.13820</td>\n",
       "      <td>10.95610</td>\n",
       "      <td>199.41203</td>\n",
       "      <td>-1178.03350</td>\n",
       "      <td>1023.19576</td>\n",
       "      <td>-974.26154</td>\n",
       "      <td>...</td>\n",
       "      <td>1116.78444</td>\n",
       "      <td>-169.20781</td>\n",
       "      <td>591.14952</td>\n",
       "      <td>-78.10120</td>\n",
       "      <td>-968.23722</td>\n",
       "      <td>-794.15023</td>\n",
       "      <td>-154.87115</td>\n",
       "      <td>-754.69807</td>\n",
       "      <td>624.80584</td>\n",
       "      <td>527.27219</td>\n",
       "    </tr>\n",
       "    <tr>\n",
       "      <th>400</th>\n",
       "      <td>398.43969</td>\n",
       "      <td>703.56630</td>\n",
       "      <td>1301.96080</td>\n",
       "      <td>-76.82588</td>\n",
       "      <td>-778.24667</td>\n",
       "      <td>-212.97958</td>\n",
       "      <td>-241.32527</td>\n",
       "      <td>-851.04927</td>\n",
       "      <td>712.88377</td>\n",
       "      <td>-1212.56039</td>\n",
       "      <td>...</td>\n",
       "      <td>1055.09914</td>\n",
       "      <td>819.27530</td>\n",
       "      <td>-333.37470</td>\n",
       "      <td>-236.04408</td>\n",
       "      <td>-1670.03065</td>\n",
       "      <td>-590.75333</td>\n",
       "      <td>530.74237</td>\n",
       "      <td>809.40448</td>\n",
       "      <td>114.67212</td>\n",
       "      <td>-219.99266</td>\n",
       "    </tr>\n",
       "    <tr>\n",
       "      <th>401</th>\n",
       "      <td>17.46896</td>\n",
       "      <td>1856.77752</td>\n",
       "      <td>732.59771</td>\n",
       "      <td>421.42265</td>\n",
       "      <td>-886.73756</td>\n",
       "      <td>281.86083</td>\n",
       "      <td>-278.29867</td>\n",
       "      <td>-642.11033</td>\n",
       "      <td>974.12795</td>\n",
       "      <td>-104.92722</td>\n",
       "      <td>...</td>\n",
       "      <td>1236.14810</td>\n",
       "      <td>300.35971</td>\n",
       "      <td>414.41858</td>\n",
       "      <td>-128.18053</td>\n",
       "      <td>-1191.76820</td>\n",
       "      <td>-1657.85894</td>\n",
       "      <td>-753.68375</td>\n",
       "      <td>-176.89971</td>\n",
       "      <td>670.28321</td>\n",
       "      <td>364.52487</td>\n",
       "    </tr>\n",
       "  </tbody>\n",
       "</table>\n",
       "<p>401 rows × 128 columns</p>\n",
       "</div>"
      ],
      "text/plain": [
       "              0           1           2          3           4          5  \\\n",
       "1    -664.19959  1516.11447   277.39607  527.70555  -661.04963 -412.32228   \n",
       "2    -306.13856   496.66520    80.83738 -503.23568    76.49306 -638.18008   \n",
       "3    -961.77682   611.26690   353.26038 -353.88201  -907.28119 -186.34144   \n",
       "4   -1030.57027   850.43512   783.32767 -358.73279  -281.62964   49.24194   \n",
       "5   -1258.15049  1200.45893   231.31274 -429.01006   382.14993 -496.76508   \n",
       "..          ...         ...         ...        ...         ...        ...   \n",
       "397 -1584.60408  1099.47540   190.87646  155.06018  -696.68218  323.11093   \n",
       "398 -1014.99282  1197.38773   169.50686 -136.76908  -555.23962  283.99080   \n",
       "399 -1495.15584   815.88000   907.95673 -531.16299 -1333.13820   10.95610   \n",
       "400   398.43969   703.56630  1301.96080  -76.82588  -778.24667 -212.97958   \n",
       "401    17.46896  1856.77752   732.59771  421.42265  -886.73756  281.86083   \n",
       "\n",
       "             6           7           8           9  ...         118  \\\n",
       "1    -26.37491 -1584.66667  1304.66834  -448.72317  ...   259.89352   \n",
       "2   -195.30300 -1199.05055  1865.53150  -448.21102  ...   442.28636   \n",
       "3   -243.14573 -1397.85841   522.10610  -520.85493  ...  1111.40914   \n",
       "4     78.28606  -170.15841  1149.06780  -562.67440  ...  1007.93056   \n",
       "5   -542.58350 -1307.58137  1734.57026  -118.89388  ...   901.96997   \n",
       "..         ...         ...         ...         ...  ...         ...   \n",
       "397  150.61509 -1408.17016  1411.32370  -367.36101  ...  1434.52629   \n",
       "398  281.64148 -1520.99669  1098.13653  -120.78913  ...   464.88289   \n",
       "399  199.41203 -1178.03350  1023.19576  -974.26154  ...  1116.78444   \n",
       "400 -241.32527  -851.04927   712.88377 -1212.56039  ...  1055.09914   \n",
       "401 -278.29867  -642.11033   974.12795  -104.92722  ...  1236.14810   \n",
       "\n",
       "           119        120        121         122         123         124  \\\n",
       "1    -10.87022  272.60248 -467.53619 -1186.19218 -1637.74058    -5.90186   \n",
       "2   -238.99905 -281.07917  406.17973 -1465.78565 -1412.43964   161.61639   \n",
       "3    594.35967 -292.22304  421.15204 -2221.73139 -1169.07775   934.28336   \n",
       "4    -26.43529 -233.88058  294.97493 -1398.30381 -1192.43421    53.05942   \n",
       "5    675.27123  399.25553  474.68532  -568.52028  -767.00419    49.65664   \n",
       "..         ...        ...        ...         ...         ...         ...   \n",
       "397  596.08385  -68.24113  567.57592  -643.51834 -1085.18042  1320.37297   \n",
       "398  510.43943  -82.98119  180.10424 -1641.96745 -1222.91595   326.15762   \n",
       "399 -169.20781  591.14952  -78.10120  -968.23722  -794.15023  -154.87115   \n",
       "400  819.27530 -333.37470 -236.04408 -1670.03065  -590.75333   530.74237   \n",
       "401  300.35971  414.41858 -128.18053 -1191.76820 -1657.85894  -753.68375   \n",
       "\n",
       "           125         126        127  \n",
       "1   -764.00161  1074.97230   15.66540  \n",
       "2    176.38400   806.09657 -159.29665  \n",
       "3    173.91473   576.51997  861.16344  \n",
       "4   -151.00250  1615.75377  624.62494  \n",
       "5    281.70791   260.41389  841.35175  \n",
       "..         ...         ...        ...  \n",
       "397  503.47116   714.65053 -229.54455  \n",
       "398 -301.93698  -186.42161  328.20672  \n",
       "399 -754.69807   624.80584  527.27219  \n",
       "400  809.40448   114.67212 -219.99266  \n",
       "401 -176.89971   670.28321  364.52487  \n",
       "\n",
       "[401 rows x 128 columns]"
      ]
     },
     "execution_count": 22,
     "metadata": {},
     "output_type": "execute_result"
    }
   ],
   "source": [
    "df=df*10000\n",
    "print(df.shape)\n",
    "df.head(401)"
   ]
  },
  {
   "cell_type": "code",
   "execution_count": 24,
   "metadata": {
    "id": "9ka2h47Mcd5m"
   },
   "outputs": [],
   "source": [
    "# splitting into train and test data\n",
    "test_male = df[:10].to_numpy()\n",
    "test_female = df[399:409].to_numpy()\n",
    "train_male = df[10:399].to_numpy()\n",
    "train_female = df[409:].to_numpy()"
   ]
  },
  {
   "cell_type": "code",
   "execution_count": 25,
   "metadata": {
    "colab": {
     "base_uri": "https://localhost:8080/"
    },
    "id": "Lk7wU3plfKtf",
    "outputId": "12c3a83f-4676-460c-fa92-934619b685ee"
   },
   "outputs": [],
   "source": [
    "mean_male = np.mean(train_male,axis=0)\n",
    "mean_female = np.mean(train_female,axis=0)"
   ]
  },
  {
   "cell_type": "code",
   "execution_count": 26,
   "metadata": {
    "colab": {
     "base_uri": "https://localhost:8080/"
    },
    "id": "_iOPl0pds05C",
    "outputId": "85c48260-b029-4229-bb1f-e89c094bc587"
   },
   "outputs": [],
   "source": [
    "# calculating within class scatter matrix\n",
    "S_W = np.zeros((128,128))\n",
    "class_sc_mat = np.zeros((128,128))\n",
    "\n",
    "for row in train_male:\n",
    "    row, mv = row.reshape(128,1), mean_male.reshape(128,1) # make column vectors\n",
    "    class_sc_mat += (row-mv).dot((row-mv).T)\n",
    "S_W += class_sc_mat                             # sum class scatter matrices\n",
    "\n",
    "class_sc_mat=np.zeros((128,128))\n",
    "for row in train_female:\n",
    "    row, mv = row.reshape(128,1), mean_female.reshape(128,1) # make column vectors\n",
    "    class_sc_mat += (row-mv).dot((row-mv).T)\n",
    "S_W += class_sc_mat                             # sum class scatter matrices\n"
   ]
  },
  {
   "cell_type": "code",
   "execution_count": 27,
   "metadata": {
    "colab": {
     "base_uri": "https://localhost:8080/"
    },
    "id": "jbVANcSovRgq",
    "outputId": "1194e5f8-b729-4169-adba-4a0696eae082"
   },
   "outputs": [],
   "source": [
    "# calculating between class scatter matrix\n",
    "overall_mean = np.mean(np.concatenate((train_male,train_female), axis=0), axis=0)\n",
    "overall_mean = np.asarray(overall_mean)\n",
    "overall_mean = overall_mean.reshape(128,1)\n",
    "S_B = np.zeros((128,128))\n",
    "\n",
    "n1 = train_male.shape[0]\n",
    "n2 = train_female.shape[0]\n",
    "\n",
    "mean_vec = np.asarray(mean_male)\n",
    "mean_vec = mean_vec.reshape(128,1) # make column vector\n",
    " # make column vector\n",
    "z = mean_vec - overall_mean\n",
    "A = n1 * (np.matmul(z,z.T))\n",
    "S_B = np.add(S_B,A)\n",
    "\n",
    "\n",
    "mean_vec = np.asarray(mean_female)\n",
    "mean_vec = mean_vec.reshape(128,1)\n",
    "z = mean_vec - overall_mean\n",
    "A = n2 * (np.matmul(z,z.T))\n",
    "S_B = np.add(S_B,A)\n"
   ]
  },
  {
   "cell_type": "markdown",
   "metadata": {
    "id": "Dz2vsi3Zzk_g"
   },
   "source": [
    "Eigen pairs"
   ]
  },
  {
   "cell_type": "code",
   "execution_count": 28,
   "metadata": {
    "id": "u7DrXX9QznqW"
   },
   "outputs": [],
   "source": [
    "Sw_inv = np.linalg.inv(S_W)\n",
    "#print(Sw_inv)\n",
    "M = Sw_inv @ S_B"
   ]
  },
  {
   "cell_type": "code",
   "execution_count": 32,
   "metadata": {
    "colab": {
     "base_uri": "https://localhost:8080/"
    },
    "id": "k0m7WqxT17kM",
    "outputId": "b0010e83-5210-4bef-bda3-9a4c2b962a9b"
   },
   "outputs": [],
   "source": [
    "eig_vals, eig_vecs = np.linalg.eig(M)\n",
    "eig_pairs = [(np.abs(eig_vals[i]), eig_vecs[:,i]) for i in range(len(eig_vals))]\n",
    "\n",
    "# Sort the (eigenvalue, eigenvector) tuples from high to low\n",
    "eig_pairs = sorted(eig_pairs, key=lambda k: k[0], reverse=True)\n",
    "\n",
    "eigv_sum = sum(eig_vals)\n",
    "tot = 0\n",
    "for i,j in enumerate(eig_pairs):\n",
    "    tot += (j[0]/eigv_sum).real\n",
    "    if(tot > 0.9):\n",
    "        break"
   ]
  },
  {
   "cell_type": "code",
   "execution_count": 33,
   "metadata": {
    "colab": {
     "base_uri": "https://localhost:8080/"
    },
    "id": "y3Z5YlS1Hp6z",
    "outputId": "fe623d25-333b-4cdf-cb65-039c814c00ec"
   },
   "outputs": [
    {
     "name": "stdout",
     "output_type": "stream",
     "text": [
      "(128, 1)\n"
     ]
    },
    {
     "name": "stderr",
     "output_type": "stream",
     "text": [
      "/home/sinduja/.local/lib/python3.6/site-packages/ipykernel_launcher.py:6: ComplexWarning: Casting complex values to real discards the imaginary part\n",
      "  \n",
      "/home/sinduja/.local/lib/python3.6/site-packages/ipykernel_launcher.py:9: ComplexWarning: Casting complex values to real discards the imaginary part\n",
      "  if __name__ == '__main__':\n"
     ]
    }
   ],
   "source": [
    "eigen_values , eigen_vectors = eig_vals, eig_vecs\n",
    "sorted_index = np.argsort(eigen_values)[::-1]\n",
    "sorted_eigenvectors = eigen_vectors[:,sorted_index]\n",
    "\n",
    "#print(sum(eigen_values))\n",
    "sorted_eigenvalue = eigen_values[sorted_index].astype(np.float64)\n",
    "\n",
    "#We chose only 1\n",
    "W = sorted_eigenvectors[:,0:1].astype(np.float64)\n",
    "print(W.shape)"
   ]
  },
  {
   "cell_type": "code",
   "execution_count": 34,
   "metadata": {
    "colab": {
     "base_uri": "https://localhost:8080/"
    },
    "id": "UalJbaeVIBrZ",
    "outputId": "68ff435f-7021-473d-933c-ff408eff46f7"
   },
   "outputs": [],
   "source": [
    "X_train=np.concatenate((train_male,train_female),axis=0)\n",
    "X_reduced=X_train @ W"
   ]
  },
  {
   "cell_type": "code",
   "execution_count": 35,
   "metadata": {
    "id": "1iSDagHXKQys"
   },
   "outputs": [],
   "source": [
    "# let male be 1 and female be 2\n",
    "y = [1 for i in range(389)]+[2 for i in range(391)]\n",
    "y = np.array(y)"
   ]
  },
  {
   "cell_type": "code",
   "execution_count": 36,
   "metadata": {
    "colab": {
     "base_uri": "https://localhost:8080/"
    },
    "id": "Q1yPsvdsM0zL",
    "outputId": "20dbcba5-f389-4d88-ba73-216cce29cdc2"
   },
   "outputs": [
    {
     "data": {
      "text/plain": [
       "GaussianNB()"
      ]
     },
     "execution_count": 36,
     "metadata": {},
     "output_type": "execute_result"
    }
   ],
   "source": [
    "classifier=GaussianNB()\n",
    "classifier.fit(X_reduced.reshape(780,1),y)"
   ]
  },
  {
   "cell_type": "code",
   "execution_count": 37,
   "metadata": {
    "colab": {
     "base_uri": "https://localhost:8080/"
    },
    "id": "wJkghESBM66_",
    "outputId": "40392bc9-78d7-46b4-c5e6-1920037f100e"
   },
   "outputs": [
    {
     "name": "stdout",
     "output_type": "stream",
     "text": [
      "Actual : Male Predicted : Male\n",
      "Actual : Male Predicted : Male\n",
      "Actual : Male Predicted : Male\n",
      "Actual : Male Predicted : Male\n",
      "Actual : Male Predicted : Male\n",
      "Actual : Male Predicted : Female\n",
      "Actual : Male Predicted : Male\n",
      "Actual : Male Predicted : Male\n",
      "Actual : Male Predicted : Male\n",
      "Actual : Male Predicted : Male\n",
      "Actual : Female Predicted : Male\n",
      "Actual : Female Predicted : Male\n",
      "Actual : Female Predicted : Female\n",
      "Actual : Female Predicted : Female\n",
      "Actual : Female Predicted : Female\n",
      "Actual : Female Predicted : Female\n",
      "Actual : Female Predicted : Female\n",
      "Actual : Female Predicted : Female\n",
      "Actual : Female Predicted : Female\n",
      "Actual : Female Predicted : Female\n",
      "Accuracy: 0.85\n"
     ]
    }
   ],
   "source": [
    "correct=0\n",
    "cases=0\n",
    "predicted=[]\n",
    "for row in test_male:\n",
    "    prediction = classifier.predict((row @ W).reshape(1,1))\n",
    "    cases+=1\n",
    "    predicted.append(prediction[0])\n",
    "    if(prediction[0]==1):\n",
    "        correct+=1\n",
    "        print(\"Actual : Male Predicted : Male\")\n",
    "    else:\n",
    "        print(\"Actual : Male Predicted : Female\")\n",
    "for row in test_female:\n",
    "    prediction = classifier.predict((row @ W).reshape(1,1))\n",
    "    cases+=1\n",
    "    predicted.append(prediction[0])\n",
    "    if(prediction[0]==2):\n",
    "        correct+=1\n",
    "        print(\"Actual : Female Predicted : Female\")\n",
    "    else:\n",
    "        print(\"Actual : Female Predicted : Male\")\n",
    "\n",
    "accuracy=correct/cases\n",
    "print(\"Accuracy:\",accuracy)"
   ]
  },
  {
   "cell_type": "code",
   "execution_count": 38,
   "metadata": {
    "colab": {
     "base_uri": "https://localhost:8080/",
     "height": 330
    },
    "id": "EXvVtj6ZNkA7",
    "outputId": "f4894b15-3935-4aca-8d8a-a056785e0154"
   },
   "outputs": [
    {
     "data": {
      "image/png": "[encoded data removed]",
      "text/plain": [
       "<Figure size 360x360 with 2 Axes>"
      ]
     },
     "metadata": {
      "needs_background": "light"
     },
     "output_type": "display_data"
    }
   ],
   "source": [
    "expected=[1 for i in range(10)]+[2 for i in range(10)]\n",
    "skplt.metrics.plot_confusion_matrix(expected, predicted, figsize=(5,5))\n",
    "plt.xlabel('Predicted class')\n",
    "plt.ylabel('Actual class')\n",
    "plt.savefig(\"q2_confusion_matrix\")\n",
    "plt.show()"
   ]
  }
 ],
 "metadata": {
  "colab": {
   "collapsed_sections": [],
   "name": "PR_ASSNG_3_Q2.ipynb",
   "provenance": []
  },
  "kernelspec": {
   "display_name": "Python 3",
   "language": "python",
   "name": "python3"
  },
  "language_info": {
   "codemirror_mode": {
    "name": "ipython",
    "version": 3
   },
   "file_extension": ".py",
   "mimetype": "text/x-python",
   "name": "python",
   "nbconvert_exporter": "python",
   "pygments_lexer": "ipython3",
   "version": "3.6.9"
  }
 },
 "nbformat": 4,
 "nbformat_minor": 1
}
